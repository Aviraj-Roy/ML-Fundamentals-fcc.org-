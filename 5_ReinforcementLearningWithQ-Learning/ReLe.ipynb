{
 "cells": [
  {
   "cell_type": "code",
   "execution_count": 33,
   "metadata": {},
   "outputs": [],
   "source": [
    "import gym\n",
    "import numpy as np\n",
    "import time\n",
    "\n",
    "env = gym.make('FrozenLake-v1')\n",
    "STATES = env.observation_space.n\n",
    "ACTIONS = env.action_space.n"
   ]
  },
  {
   "cell_type": "code",
   "execution_count": 34,
   "metadata": {},
   "outputs": [
    {
     "data": {
      "text/plain": [
       "array([[0., 0., 0., 0.],\n",
       "       [0., 0., 0., 0.],\n",
       "       [0., 0., 0., 0.],\n",
       "       [0., 0., 0., 0.],\n",
       "       [0., 0., 0., 0.],\n",
       "       [0., 0., 0., 0.],\n",
       "       [0., 0., 0., 0.],\n",
       "       [0., 0., 0., 0.],\n",
       "       [0., 0., 0., 0.],\n",
       "       [0., 0., 0., 0.],\n",
       "       [0., 0., 0., 0.],\n",
       "       [0., 0., 0., 0.],\n",
       "       [0., 0., 0., 0.],\n",
       "       [0., 0., 0., 0.],\n",
       "       [0., 0., 0., 0.],\n",
       "       [0., 0., 0., 0.]])"
      ]
     },
     "execution_count": 34,
     "metadata": {},
     "output_type": "execute_result"
    }
   ],
   "source": [
    "Q = np.zeros((STATES, ACTIONS))  # create a matrix with all 0 values \n",
    "Q"
   ]
  },
  {
   "cell_type": "code",
   "execution_count": 35,
   "metadata": {},
   "outputs": [],
   "source": [
    "EPISODES = 2000 # how many times to run the enviornment from the beginning\n",
    "MAX_STEPS = 100  # max number of steps allowed for each run of enviornment\n",
    "\n",
    "LEARNING_RATE = 0.81  # learning rate\n",
    "GAMMA = 0.96\n",
    "\n",
    "state = env.reset()"
   ]
  },
  {
   "cell_type": "code",
   "execution_count": 38,
   "metadata": {},
   "outputs": [],
   "source": [
    "epsilon = 0.9  # start with a 90% chance of picking a random action\n",
    "\n",
    "# code to pick action\n",
    "if np.random.uniform(0, 1) < epsilon:  # we will check if a randomly selected value is less than epsilon.\n",
    "    action = env.action_space.sample()  # take random action\n",
    "else:\n",
    "    action = np.argmax(Q[state, :])  # use Q table to pick best action based on current values"
   ]
  },
  {
   "cell_type": "code",
   "execution_count": 37,
   "metadata": {},
   "outputs": [
    {
     "name": "stdout",
     "output_type": "stream",
     "text": [
      "State: (0, {'prob': 1}), Type: <class 'tuple'>\n",
      "Action: 2, Type: <class 'int'>\n",
      "env.step(action) returned: (1, 0.0, False, False, {'prob': 0.3333333333333333})\n"
     ]
    },
    {
     "name": "stderr",
     "output_type": "stream",
     "text": [
      "c:\\Users\\royav\\AppData\\Local\\Programs\\Python\\Python312\\Lib\\site-packages\\gym\\utils\\passive_env_checker.py:233: DeprecationWarning: `np.bool8` is a deprecated alias for `np.bool_`.  (Deprecated NumPy 1.24)\n",
      "  if not isinstance(terminated, (bool, np.bool8)):\n"
     ]
    }
   ],
   "source": [
    "# Debugging: Check variable types\n",
    "print(f\"State: {state}, Type: {type(state)}\")\n",
    "print(f\"Action: {action}, Type: {type(action)}\")\n",
    "\n",
    "# Ensure state is an integer\n",
    "if isinstance(state, tuple):\n",
    "    state = int(state[0])  # Extract first value if it's a tuple\n",
    "else:\n",
    "    state = int(state)  # Otherwise, ensure it's an integer\n",
    "\n",
    "# Ensure action is an integer\n",
    "action = int(action)\n",
    "\n",
    "# Perform action in the environment\n",
    "result = env.step(action)\n",
    "\n",
    "# Debugging: Check what env.step() returns\n",
    "print(f\"env.step(action) returned: {result}\")\n",
    "\n",
    "# Unpack correctly based on return values\n",
    "if len(result) == 5:\n",
    "    next_state, reward, done, info, prob = result\n",
    "elif len(result) == 4:\n",
    "    next_state, reward, done, info = result\n",
    "    prob = None  # Assign None if not returned\n",
    "else:\n",
    "    raise ValueError(f\"Unexpected env.step() return format: {result}\")\n",
    "\n",
    "# Ensure next_state is an integer\n",
    "if isinstance(next_state, tuple):\n",
    "    next_state = int(next_state[0])\n",
    "else:\n",
    "    next_state = int(next_state)\n",
    "\n",
    "# Q-learning update\n",
    "Q[state, action] = Q[state, action] + LEARNING_RATE * (\n",
    "    reward + GAMMA * np.max(Q[next_state, :]) - Q[state, action]\n",
    ")\n"
   ]
  },
  {
   "cell_type": "code",
   "execution_count": 32,
   "metadata": {},
   "outputs": [
    {
     "ename": "TypeError",
     "evalue": "'int' object is not subscriptable",
     "output_type": "error",
     "traceback": [
      "\u001b[1;31m---------------------------------------------------------------------------\u001b[0m",
      "\u001b[1;31mTypeError\u001b[0m                                 Traceback (most recent call last)",
      "Cell \u001b[1;32mIn[32], line 1\u001b[0m\n\u001b[1;32m----> 1\u001b[0m state \u001b[38;5;241m=\u001b[39m \u001b[38;5;28mint\u001b[39m(\u001b[43mstate\u001b[49m\u001b[43m[\u001b[49m\u001b[38;5;241;43m0\u001b[39;49m\u001b[43m]\u001b[49m)\n\u001b[0;32m      3\u001b[0m action \u001b[38;5;241m=\u001b[39m \u001b[38;5;28mint\u001b[39m(action)\n\u001b[0;32m      4\u001b[0m next_state, reward, done, info , prob \u001b[38;5;241m=\u001b[39m env\u001b[38;5;241m.\u001b[39mstep(action)\n",
      "\u001b[1;31mTypeError\u001b[0m: 'int' object is not subscriptable"
     ]
    }
   ],
   "source": [
    "state = int(state[0])\n",
    "\n",
    "action = int(action)\n",
    "next_state, reward, done, info , prob = env.step(action)\n",
    "Q[state, action] = Q[state, action] + LEARNING_RATE * (reward + GAMMA * np.max(Q[new_state, :]) - Q[state, action])"
   ]
  }
 ],
 "metadata": {
  "kernelspec": {
   "display_name": "Python 3",
   "language": "python",
   "name": "python3"
  },
  "language_info": {
   "codemirror_mode": {
    "name": "ipython",
    "version": 3
   },
   "file_extension": ".py",
   "mimetype": "text/x-python",
   "name": "python",
   "nbconvert_exporter": "python",
   "pygments_lexer": "ipython3",
   "version": "3.12.2"
  }
 },
 "nbformat": 4,
 "nbformat_minor": 2
}
