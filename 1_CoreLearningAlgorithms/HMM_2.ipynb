{
 "cells": [
  {
   "cell_type": "code",
   "execution_count": 4,
   "metadata": {},
   "outputs": [],
   "source": [
    "#tensorflow_version 2.x\n",
    "\n",
    "#Encoded Cold days->0 & Hot Days->1\n",
    "#First day has 20% chance of COLD\n",
    "#COLD Day has 50% chance of being followed by a HOT Day\n",
    "#HOT Day has 20% chance of being followed by a COLD Day\n",
    "#Each day, temp is normally distributed with mean and standard deviation 0 and 5 on a cold day & mean and SD 15 and 10 on a hot day. \n",
    "\n",
    "import tensorflow_probability as tfp #different module from tensorflow being used this time\n",
    "import tensorflow as tf\n",
    "\n",
    "tfd = tfp.distributions #making a shortcut for later on\n",
    "initial_distribution = tfd.Categorical(probs=[0.2, 0.8]) #Pt.2 above\n",
    "transition_distribution = tfd.Categorical(probs=[[0.5, 0.5],\n",
    "                                                 [0.2, 0.8]]) #Pt.s 3 & 4 above\n",
    "observation_distribution = tfd.Normal(loc=[0., 15.], scale =[5., 10.]) #Pt.5 above\n",
    "#loc argument is the MEAN & scale  argument is STANDARD DEVIATION"
   ]
  },
  {
   "cell_type": "code",
   "execution_count": 5,
   "metadata": {},
   "outputs": [],
   "source": [
    "#Create Hidden Markov Model\n",
    "model = tfd.HiddenMarkovModel(\n",
    "    initial_distribution = initial_distribution,\n",
    "    transition_distribution = transition_distribution,\n",
    "    observation_distribution = observation_distribution,\n",
    "    num_steps=7) #no. of steps is for how many days"
   ]
  },
  {
   "cell_type": "code",
   "execution_count": 6,
   "metadata": {},
   "outputs": [
    {
     "name": "stdout",
     "output_type": "stream",
     "text": [
      "[11.999999 11.1      10.830001 10.748999 10.724699 10.71741  10.715222]\n"
     ]
    }
   ],
   "source": [
    "#Get the Expected Temperatures\n",
    "mean = model.mean()\n",
    "\n",
    "#Due to the way TensorFlow works on a lower level we need to evaluate part of the graph\n",
    "#from within a session to see the value of this tensor\n",
    "\n",
    "#in the new version of tensorflow, we need to use tf.compat.v1.Session() rather than just tf.Session()\n",
    "with tf.compat.v1.Session() as sess:\n",
    "    print(mean.numpy())"
   ]
  }
 ],
 "metadata": {
  "kernelspec": {
   "display_name": "Python 3",
   "language": "python",
   "name": "python3"
  },
  "language_info": {
   "codemirror_mode": {
    "name": "ipython",
    "version": 3
   },
   "file_extension": ".py",
   "mimetype": "text/x-python",
   "name": "python",
   "nbconvert_exporter": "python",
   "pygments_lexer": "ipython3",
   "version": "3.12.2"
  }
 },
 "nbformat": 4,
 "nbformat_minor": 2
}
