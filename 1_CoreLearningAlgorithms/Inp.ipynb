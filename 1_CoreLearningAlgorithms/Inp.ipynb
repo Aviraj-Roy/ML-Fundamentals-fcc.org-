{
 "cells": [
  {
   "cell_type": "code",
   "execution_count": 2,
   "metadata": {},
   "outputs": [],
   "source": [
    "import tensorflow as tf\n",
    "import pandas as pd\n",
    "\n",
    "# Load the training and testing data\n",
    "dftrain = pd.read_csv('https://storage.googleapis.com/tf-datasets/titanic/train.csv')\n",
    "dfeval = pd.read_csv('https://storage.googleapis.com/tf-datasets/titanic/eval.csv')\n",
    "\n",
    "# Remove the 'survived' column from the training and testing data\n",
    "y_train = dftrain.pop('survived')\n",
    "y_eval = dfeval.pop('survived')\n",
    "\n",
    "#data_df -> Pandas Dataframe\n",
    "#label_df -> label stands for y_train, eval\n",
    "def make_input_fn(data_df, label_df, num_epochs=10, shuffle=True, batch_size=32):\n",
    "  def input_function(): #inner function, this will be returned\n",
    "    ds = tf.data.Dataset.from_tensor_slices((dict(data_df), label_df)) #create tf.data.Dataset object with data\n",
    "    if shuffle:\n",
    "      ds = ds.shuffle(1000) #randomize order of data\n",
    "    ds = ds.batch(batch_size).repeat(num_epochs) #split dataset into batches of 32 and repeat process fir bo. of epochs\n",
    "    return ds # returns a batch of dataset\n",
    "  return input_function #return a function object for use\n",
    "\n",
    "train_input_fn = make_input_fn(dftrain, y_train) #call the input_function that was returned to us to get a dataset\n",
    "eval_input_fn = make_input_fn(dfeval, y_eval, num_epochs=1, shuffle=False)"
   ]
  }
 ],
 "metadata": {
  "kernelspec": {
   "display_name": "Python 3",
   "language": "python",
   "name": "python3"
  },
  "language_info": {
   "codemirror_mode": {
    "name": "ipython",
    "version": 3
   },
   "file_extension": ".py",
   "mimetype": "text/x-python",
   "name": "python",
   "nbconvert_exporter": "python",
   "pygments_lexer": "ipython3",
   "version": "3.11.5"
  }
 },
 "nbformat": 4,
 "nbformat_minor": 2
}
